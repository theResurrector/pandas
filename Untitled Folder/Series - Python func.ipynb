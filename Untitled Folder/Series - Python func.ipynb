{
 "cells": [
  {
   "cell_type": "markdown",
   "id": "7f481064",
   "metadata": {},
   "source": [
    "## Series with Python func"
   ]
  },
  {
   "cell_type": "code",
   "execution_count": 1,
   "id": "05907efe",
   "metadata": {},
   "outputs": [],
   "source": [
    "import pandas as pd"
   ]
  },
  {
   "cell_type": "code",
   "execution_count": 2,
   "id": "f5b604cd",
   "metadata": {},
   "outputs": [],
   "source": [
    "pokemon = pd.read_csv(\"pandas/pokemon.csv\", usecols = [\"Pokemon\"]).squeeze()\n",
    "google = pd.read_csv(\"pandas/google_stock_price.csv\", usecols = [\"Stock Price\"]).squeeze()"
   ]
  },
  {
   "cell_type": "code",
   "execution_count": 12,
   "id": "a30122fd",
   "metadata": {},
   "outputs": [
    {
     "data": {
      "text/plain": [
       "'Abomasnow'"
      ]
     },
     "execution_count": 12,
     "metadata": {},
     "output_type": "execute_result"
    }
   ],
   "source": [
    "len(pokemon)\n",
    "type(pokemon)\n",
    "# dir(pokemon) #find which function that can be used\n",
    "sorted(pokemon)\n",
    "min(pokemon)"
   ]
  },
  {
   "cell_type": "markdown",
   "id": "d62aacd8",
   "metadata": {},
   "source": [
    "### sort_value() "
   ]
  },
  {
   "cell_type": "code",
   "execution_count": 15,
   "id": "aff80b08",
   "metadata": {},
   "outputs": [
    {
     "data": {
      "text/plain": [
       "717     Zygarde\n",
       "633    Zweilous\n",
       "40        Zubat\n",
       "569       Zorua\n",
       "570     Zoroark\n",
       "Name: Pokemon, dtype: object"
      ]
     },
     "execution_count": 15,
     "metadata": {},
     "output_type": "execute_result"
    }
   ],
   "source": [
    "pokemon.sort_values(ascending = False).head()"
   ]
  },
  {
   "cell_type": "markdown",
   "id": "66584699",
   "metadata": {},
   "source": [
    "### sort_index()"
   ]
  },
  {
   "cell_type": "code",
   "execution_count": 24,
   "id": "393c2f16",
   "metadata": {},
   "outputs": [
    {
     "data": {
      "text/plain": [
       "Pokemon\n",
       "Leavanny        Bug\n",
       "Burmy           Bug\n",
       "Scolipede       Bug\n",
       "Genesect        Bug\n",
       "Kricketune      Bug\n",
       "              ...  \n",
       "Panpour       Water\n",
       "Seel          Water\n",
       "Dewgong       Water\n",
       "Politoed      Water\n",
       "Chinchou      Water\n",
       "Name: Type, Length: 721, dtype: object"
      ]
     },
     "execution_count": 24,
     "metadata": {},
     "output_type": "execute_result"
    }
   ],
   "source": [
    "pokemon1 = pd.read_csv(\"pandas/pokemon.csv\", index_col = \"Pokemon\").squeeze()\n",
    "\n",
    "# sort_index()\n",
    "pokemon1.sort_index(ascending = True)\n",
    "\n",
    "# sort_values()\n",
    "pokemon1.sort_values(ascending = True)\n"
   ]
  },
  {
   "cell_type": "code",
   "execution_count": null,
   "id": "1659474b",
   "metadata": {},
   "outputs": [],
   "source": []
  }
 ],
 "metadata": {
  "kernelspec": {
   "display_name": "Python 3 (ipykernel)",
   "language": "python",
   "name": "python3"
  },
  "language_info": {
   "codemirror_mode": {
    "name": "ipython",
    "version": 3
   },
   "file_extension": ".py",
   "mimetype": "text/x-python",
   "name": "python",
   "nbconvert_exporter": "python",
   "pygments_lexer": "ipython3",
   "version": "3.9.7"
  }
 },
 "nbformat": 4,
 "nbformat_minor": 5
}
