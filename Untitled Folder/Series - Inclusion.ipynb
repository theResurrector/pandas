{
 "cells": [
  {
   "cell_type": "code",
   "execution_count": 2,
   "id": "c7b38b3d",
   "metadata": {},
   "outputs": [],
   "source": [
    "import pandas as pd"
   ]
  },
  {
   "cell_type": "code",
   "execution_count": 3,
   "id": "d819cfae",
   "metadata": {},
   "outputs": [],
   "source": [
    "pokemon = pd.read_csv(\"pandas/pokemon.csv\", usecols = [\"Pokemon\"]).squeeze()\n",
    "google = pd.read_csv(\"pandas/google_stock_price.csv\", usecols = [\"Stock Price\"]).squeeze()"
   ]
  },
  {
   "cell_type": "code",
   "execution_count": null,
   "id": "28b4fde6",
   "metadata": {},
   "outputs": [],
   "source": []
  }
 ],
 "metadata": {
  "kernelspec": {
   "display_name": "Python 3 (ipykernel)",
   "language": "python",
   "name": "python3"
  },
  "language_info": {
   "codemirror_mode": {
    "name": "ipython",
    "version": 3
   },
   "file_extension": ".py",
   "mimetype": "text/x-python",
   "name": "python",
   "nbconvert_exporter": "python",
   "pygments_lexer": "ipython3",
   "version": "3.9.7"
  }
 },
 "nbformat": 4,
 "nbformat_minor": 5
}
